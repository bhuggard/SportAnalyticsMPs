{
 "cells": [
  {
   "cell_type": "markdown",
   "id": "43d0bdfb-fb3a-4ae9-bf35-94f37ff12a4c",
   "metadata": {},
   "source": [
    "## ***SI 311 Homework #10: Identifying Sue Bird's Value as a Player***\n",
    "\n",
    "Data from: https://herhoopstats.substack.com/p/updated-2020-wnba-rosters-and-salary and https://www.basketball-reference.com/wnba/years/2021_advanced.html\n",
    "\n",
    "Formulas from SI 311, University of Michigan Fall '22\n",
    "\n",
    "*Code Written by Brandon Huggard*\n",
    "\n",
    "https://www.linkedin.com/in/brandon-huggard-5957a0192/"
   ]
  },
  {
   "cell_type": "code",
   "execution_count": 46,
   "id": "96cb9b4f-f8d2-4a44-bce3-2c07ceec7996",
   "metadata": {},
   "outputs": [],
   "source": [
    "import pandas as pd\n",
    "import numpy as np\n",
    "import matplotlib.pyplot as plt\n",
    "import seaborn as sns"
   ]
  },
  {
   "cell_type": "code",
   "execution_count": 47,
   "id": "7201879a-b0a6-40e5-93e9-d321165adeec",
   "metadata": {},
   "outputs": [],
   "source": [
    "sals = pd.read_csv('wnba21.csv')"
   ]
  },
  {
   "cell_type": "code",
   "execution_count": 73,
   "id": "f0e652ce-c8c8-444c-9f67-09d831068d6e",
   "metadata": {},
   "outputs": [],
   "source": [
    "bird_sal = 215000"
   ]
  },
  {
   "cell_type": "code",
   "execution_count": 49,
   "id": "7ffac43f-3e35-40ab-b473-f91c3d4ff012",
   "metadata": {},
   "outputs": [
    {
     "name": "stdout",
     "output_type": "stream",
     "text": [
      "<class 'pandas.core.frame.DataFrame'>\n",
      "RangeIndex: 12 entries, 0 to 11\n",
      "Data columns (total 5 columns):\n",
      " #   Column               Non-Null Count  Dtype  \n",
      "---  ------               --------------  -----  \n",
      " 0   TEAM                 12 non-null     object \n",
      " 1   TOTAL SALARIES       12 non-null     int64  \n",
      " 2   TOTAL PLAYERS        12 non-null     float64\n",
      " 3   CAP ROOM             12 non-null     object \n",
      " 4   GUARANTEED SALARIES  12 non-null     object \n",
      "dtypes: float64(1), int64(1), object(3)\n",
      "memory usage: 608.0+ bytes\n"
     ]
    }
   ],
   "source": [
    "sals.info()"
   ]
  },
  {
   "cell_type": "code",
   "execution_count": 50,
   "id": "e5f89b49-d5a1-4380-9243-4e5ea61fee59",
   "metadata": {},
   "outputs": [
    {
     "data": {
      "text/html": [
       "<div>\n",
       "<style scoped>\n",
       "    .dataframe tbody tr th:only-of-type {\n",
       "        vertical-align: middle;\n",
       "    }\n",
       "\n",
       "    .dataframe tbody tr th {\n",
       "        vertical-align: top;\n",
       "    }\n",
       "\n",
       "    .dataframe thead th {\n",
       "        text-align: right;\n",
       "    }\n",
       "</style>\n",
       "<table border=\"1\" class=\"dataframe\">\n",
       "  <thead>\n",
       "    <tr style=\"text-align: right;\">\n",
       "      <th></th>\n",
       "      <th>TEAM</th>\n",
       "      <th>TOTAL SALARIES</th>\n",
       "      <th>TOTAL PLAYERS</th>\n",
       "      <th>CAP ROOM</th>\n",
       "      <th>GUARANTEED SALARIES</th>\n",
       "    </tr>\n",
       "  </thead>\n",
       "  <tbody>\n",
       "    <tr>\n",
       "      <th>0</th>\n",
       "      <td>Atlanta Dream</td>\n",
       "      <td>1339000</td>\n",
       "      <td>13.0</td>\n",
       "      <td>0.00</td>\n",
       "      <td>798,700.00</td>\n",
       "    </tr>\n",
       "    <tr>\n",
       "      <th>1</th>\n",
       "      <td>Chicago Sky</td>\n",
       "      <td>1338778</td>\n",
       "      <td>11.0</td>\n",
       "      <td>222.00</td>\n",
       "      <td>953,375.00</td>\n",
       "    </tr>\n",
       "    <tr>\n",
       "      <th>2</th>\n",
       "      <td>Connecticut Sun</td>\n",
       "      <td>1352115</td>\n",
       "      <td>11.0</td>\n",
       "      <td>-13,115.00</td>\n",
       "      <td>1,053,496.00</td>\n",
       "    </tr>\n",
       "    <tr>\n",
       "      <th>3</th>\n",
       "      <td>Dallas Wings</td>\n",
       "      <td>1243559</td>\n",
       "      <td>12.0</td>\n",
       "      <td>95,441.00</td>\n",
       "      <td>716,381.00</td>\n",
       "    </tr>\n",
       "    <tr>\n",
       "      <th>4</th>\n",
       "      <td>Indiana Fever</td>\n",
       "      <td>1277179</td>\n",
       "      <td>12.0</td>\n",
       "      <td>61,821.00</td>\n",
       "      <td>645,991.00</td>\n",
       "    </tr>\n",
       "    <tr>\n",
       "      <th>5</th>\n",
       "      <td>Las Vegas Aces</td>\n",
       "      <td>1345922</td>\n",
       "      <td>11.0</td>\n",
       "      <td>-6,922.00</td>\n",
       "      <td>969,110.00</td>\n",
       "    </tr>\n",
       "    <tr>\n",
       "      <th>6</th>\n",
       "      <td>Los Angeles Sparks</td>\n",
       "      <td>1338518</td>\n",
       "      <td>11.0</td>\n",
       "      <td>482.00</td>\n",
       "      <td>882,643.00</td>\n",
       "    </tr>\n",
       "    <tr>\n",
       "      <th>7</th>\n",
       "      <td>Minnesota Lynx</td>\n",
       "      <td>1346277</td>\n",
       "      <td>12.0</td>\n",
       "      <td>-7,277.00</td>\n",
       "      <td>979,210.00</td>\n",
       "    </tr>\n",
       "    <tr>\n",
       "      <th>8</th>\n",
       "      <td>New York Liberty</td>\n",
       "      <td>1338063</td>\n",
       "      <td>12.0</td>\n",
       "      <td>937.00</td>\n",
       "      <td>855,907.00</td>\n",
       "    </tr>\n",
       "    <tr>\n",
       "      <th>9</th>\n",
       "      <td>Phoenix Mercury</td>\n",
       "      <td>1353144</td>\n",
       "      <td>11.0</td>\n",
       "      <td>-14,144.00</td>\n",
       "      <td>874,513.00</td>\n",
       "    </tr>\n",
       "    <tr>\n",
       "      <th>10</th>\n",
       "      <td>Seattle Storm</td>\n",
       "      <td>1336367</td>\n",
       "      <td>13.0</td>\n",
       "      <td>2,633.00</td>\n",
       "      <td>725,569.00</td>\n",
       "    </tr>\n",
       "    <tr>\n",
       "      <th>11</th>\n",
       "      <td>Washington Mystics</td>\n",
       "      <td>1278114</td>\n",
       "      <td>12.0</td>\n",
       "      <td>60,886.00</td>\n",
       "      <td>805,556.00</td>\n",
       "    </tr>\n",
       "  </tbody>\n",
       "</table>\n",
       "</div>"
      ],
      "text/plain": [
       "                  TEAM  TOTAL SALARIES  TOTAL PLAYERS    CAP ROOM  \\\n",
       "0        Atlanta Dream         1339000           13.0        0.00   \n",
       "1          Chicago Sky         1338778           11.0      222.00   \n",
       "2      Connecticut Sun         1352115           11.0  -13,115.00   \n",
       "3         Dallas Wings         1243559           12.0   95,441.00   \n",
       "4        Indiana Fever         1277179           12.0   61,821.00   \n",
       "5       Las Vegas Aces         1345922           11.0   -6,922.00   \n",
       "6   Los Angeles Sparks         1338518           11.0      482.00   \n",
       "7       Minnesota Lynx         1346277           12.0   -7,277.00   \n",
       "8     New York Liberty         1338063           12.0      937.00   \n",
       "9      Phoenix Mercury         1353144           11.0  -14,144.00   \n",
       "10       Seattle Storm         1336367           13.0    2,633.00   \n",
       "11  Washington Mystics         1278114           12.0   60,886.00   \n",
       "\n",
       "   GUARANTEED SALARIES  \n",
       "0           798,700.00  \n",
       "1           953,375.00  \n",
       "2         1,053,496.00  \n",
       "3           716,381.00  \n",
       "4           645,991.00  \n",
       "5           969,110.00  \n",
       "6           882,643.00  \n",
       "7           979,210.00  \n",
       "8           855,907.00  \n",
       "9           874,513.00  \n",
       "10          725,569.00  \n",
       "11          805,556.00  "
      ]
     },
     "execution_count": 50,
     "metadata": {},
     "output_type": "execute_result"
    }
   ],
   "source": [
    "sals"
   ]
  },
  {
   "cell_type": "code",
   "execution_count": 61,
   "id": "7553716d-c02e-420e-ab04-f6ba7989284b",
   "metadata": {},
   "outputs": [],
   "source": [
    "total_cash = sals['TOTAL SALARIES'].sum()"
   ]
  },
  {
   "cell_type": "code",
   "execution_count": 62,
   "id": "c7795571-5eb6-4f15-bdb5-a782200c616c",
   "metadata": {},
   "outputs": [
    {
     "data": {
      "text/plain": [
       "15887036"
      ]
     },
     "execution_count": 62,
     "metadata": {},
     "output_type": "execute_result"
    }
   ],
   "source": [
    "total_cash"
   ]
  },
  {
   "cell_type": "markdown",
   "id": "b3fabe16-3e32-45c0-aaff-ee4323c36f23",
   "metadata": {},
   "source": [
    "Each team played 32 games this season- https://en.wikipedia.org/wiki/2021_WNBA_season#:~:text=Due%20to%20the%20COVID%2D19,game%20series%20to%20reduce%20travel.\n",
    "\n",
    "12 teams"
   ]
  },
  {
   "cell_type": "code",
   "execution_count": 63,
   "id": "9530dabf-7265-4527-8233-b2a4ac1ab692",
   "metadata": {},
   "outputs": [
    {
     "data": {
      "text/plain": [
       "192"
      ]
     },
     "execution_count": 63,
     "metadata": {},
     "output_type": "execute_result"
    }
   ],
   "source": [
    "total_wins = 32 * 6\n",
    "total_wins"
   ]
  },
  {
   "cell_type": "code",
   "execution_count": 65,
   "id": "d3fd3e78-3e05-4134-bc99-98cfffeae458",
   "metadata": {},
   "outputs": [
    {
     "data": {
      "text/plain": [
       "82744.97916666667"
      ]
     },
     "execution_count": 65,
     "metadata": {},
     "output_type": "execute_result"
    }
   ],
   "source": [
    "win_val = total_cash / total_wins\n",
    "win_val"
   ]
  },
  {
   "cell_type": "markdown",
   "id": "db767355-f025-4fe9-8780-8b1853ce2c6b",
   "metadata": {},
   "source": [
    "Note: Sue Bird played 30 games in 2021"
   ]
  },
  {
   "cell_type": "code",
   "execution_count": 68,
   "id": "8c290601-da66-491b-814f-b9947d00e914",
   "metadata": {},
   "outputs": [],
   "source": [
    "bird_ws = 3"
   ]
  },
  {
   "cell_type": "code",
   "execution_count": 70,
   "id": "1a4d564d-978a-44c7-bc16-a9beddca3f44",
   "metadata": {},
   "outputs": [],
   "source": [
    "bird_value = win_val * bird_ws"
   ]
  },
  {
   "cell_type": "code",
   "execution_count": 71,
   "id": "485e8525-25c9-4479-884d-ffbb0e388c96",
   "metadata": {},
   "outputs": [
    {
     "data": {
      "text/plain": [
       "248234.9375"
      ]
     },
     "execution_count": 71,
     "metadata": {},
     "output_type": "execute_result"
    }
   ],
   "source": [
    "bird_value"
   ]
  },
  {
   "cell_type": "code",
   "execution_count": 76,
   "id": "32415a61-41cc-4863-ae5a-ed3598846512",
   "metadata": {},
   "outputs": [
    {
     "data": {
      "text/plain": [
       "33234.9375"
      ]
     },
     "execution_count": 76,
     "metadata": {},
     "output_type": "execute_result"
    }
   ],
   "source": [
    "diff = bird_value - bird_sal\n",
    "diff"
   ]
  },
  {
   "cell_type": "markdown",
   "id": "49d07294-cb61-4d09-9f59-240c9d8ce1d6",
   "metadata": {},
   "source": [
    "Sue Bird generated $33234.94 *MORE* in win vaue than what she was paid in the 2021 season."
   ]
  },
  {
   "cell_type": "code",
   "execution_count": null,
   "id": "afa37e3a-3c36-4635-82ac-491997d2f305",
   "metadata": {},
   "outputs": [],
   "source": []
  }
 ],
 "metadata": {
  "kernelspec": {
   "display_name": "Python 3 (ipykernel)",
   "language": "python",
   "name": "python3"
  },
  "language_info": {
   "codemirror_mode": {
    "name": "ipython",
    "version": 3
   },
   "file_extension": ".py",
   "mimetype": "text/x-python",
   "name": "python",
   "nbconvert_exporter": "python",
   "pygments_lexer": "ipython3",
   "version": "3.9.7"
  }
 },
 "nbformat": 4,
 "nbformat_minor": 5
}
