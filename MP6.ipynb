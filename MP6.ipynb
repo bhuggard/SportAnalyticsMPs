{
 "cells": [
  {
   "cell_type": "markdown",
   "id": "fbd0c3a6-c6dc-4a54-aac1-c7f1ad85ee16",
   "metadata": {},
   "source": [
    "## ***SI 311 Homework #6: Patrick Mahomes Performance Using Four Different QB Rating Metrics***\n",
    "\n",
    "Data from: https://www.statmuse.com/nfl/ask/patrick-mahomes-stats-2021\n",
    "\n",
    "APA Citation: Patrick Mahomes stats 2021. StatMuse. (n.d.). Retrieved October 21, 2022, from https://www.statmuse.com/nfl/ask/patrick-mahomes-stats-2021 \n",
    "\n",
    "\n",
    "Formulas from SI 311, University of Michigan Fall '22\n",
    "\n",
    "*Code Written by Brandon Huggard*\n",
    "\n",
    "https://www.linkedin.com/in/brandon-huggard-5957a0192/"
   ]
  },
  {
   "cell_type": "code",
   "execution_count": 82,
   "id": "2301dfae-9d3a-4df4-ba3d-cb2b937cdec6",
   "metadata": {},
   "outputs": [],
   "source": [
    "import pandas as pd\n",
    "import numpy as np\n",
    "import matplotlib.pyplot as plt"
   ]
  },
  {
   "cell_type": "code",
   "execution_count": 83,
   "id": "1555aaf6-fa39-468f-80fc-559160ff569f",
   "metadata": {},
   "outputs": [],
   "source": [
    "base = pd.read_csv('HW6.csv')"
   ]
  },
  {
   "cell_type": "code",
   "execution_count": 84,
   "id": "617101f1-22c6-4c8f-9a6a-8a2cbfddfed9",
   "metadata": {},
   "outputs": [
    {
     "data": {
      "text/html": [
       "<div>\n",
       "<style scoped>\n",
       "    .dataframe tbody tr th:only-of-type {\n",
       "        vertical-align: middle;\n",
       "    }\n",
       "\n",
       "    .dataframe tbody tr th {\n",
       "        vertical-align: top;\n",
       "    }\n",
       "\n",
       "    .dataframe thead th {\n",
       "        text-align: right;\n",
       "    }\n",
       "</style>\n",
       "<table border=\"1\" class=\"dataframe\">\n",
       "  <thead>\n",
       "    <tr style=\"text-align: right;\">\n",
       "      <th></th>\n",
       "      <th>NAME</th>\n",
       "      <th>SEASON</th>\n",
       "      <th>TM</th>\n",
       "      <th>GP</th>\n",
       "      <th>CMP</th>\n",
       "      <th>ATT</th>\n",
       "      <th>PCT</th>\n",
       "      <th>YDS</th>\n",
       "      <th>AVG</th>\n",
       "      <th>YDS/G</th>\n",
       "      <th>TD</th>\n",
       "      <th>TD%</th>\n",
       "      <th>INT</th>\n",
       "      <th>INT%</th>\n",
       "      <th>SCK</th>\n",
       "      <th>SCKY</th>\n",
       "      <th>RATE</th>\n",
       "    </tr>\n",
       "  </thead>\n",
       "  <tbody>\n",
       "    <tr>\n",
       "      <th>0</th>\n",
       "      <td>Patrick Mahomes</td>\n",
       "      <td>2021</td>\n",
       "      <td>KC</td>\n",
       "      <td>17</td>\n",
       "      <td>436</td>\n",
       "      <td>658</td>\n",
       "      <td>66.3</td>\n",
       "      <td>4,839</td>\n",
       "      <td>7.4</td>\n",
       "      <td>284.6</td>\n",
       "      <td>37</td>\n",
       "      <td>5.6</td>\n",
       "      <td>13</td>\n",
       "      <td>2</td>\n",
       "      <td>28</td>\n",
       "      <td>146</td>\n",
       "      <td>98.5</td>\n",
       "    </tr>\n",
       "  </tbody>\n",
       "</table>\n",
       "</div>"
      ],
      "text/plain": [
       "              NAME  SEASON  TM  GP  CMP  ATT   PCT    YDS  AVG  YDS/G  TD  \\\n",
       "0  Patrick Mahomes    2021  KC  17  436  658  66.3  4,839  7.4  284.6  37   \n",
       "\n",
       "   TD%  INT  INT%  SCK  SCKY  RATE  \n",
       "0  5.6   13     2   28   146  98.5  "
      ]
     },
     "execution_count": 84,
     "metadata": {},
     "output_type": "execute_result"
    }
   ],
   "source": [
    "base.head(1)"
   ]
  },
  {
   "cell_type": "code",
   "execution_count": 85,
   "id": "922ff2ee-6560-496f-a5c4-525e124a2915",
   "metadata": {},
   "outputs": [
    {
     "data": {
      "text/plain": [
       "NAME       object\n",
       "SEASON      int64\n",
       "TM         object\n",
       "GP          int64\n",
       "CMP         int64\n",
       "ATT         int64\n",
       "PCT       float64\n",
       "YDS        object\n",
       "AVG       float64\n",
       "YDS/G     float64\n",
       "TD          int64\n",
       "TD%       float64\n",
       "INT         int64\n",
       "INT%        int64\n",
       "SCK         int64\n",
       "SCKY        int64\n",
       "RATE      float64\n",
       "dtype: object"
      ]
     },
     "execution_count": 85,
     "metadata": {},
     "output_type": "execute_result"
    }
   ],
   "source": [
    "base.dtypes"
   ]
  },
  {
   "cell_type": "code",
   "execution_count": 86,
   "id": "0aabe1ab-2689-4d21-a363-4ca1e413a91f",
   "metadata": {},
   "outputs": [],
   "source": [
    "base['YDS'] = 4839"
   ]
  },
  {
   "cell_type": "code",
   "execution_count": 87,
   "id": "2b3006f8-adc8-4051-b8f6-ae4d2d0aa1f6",
   "metadata": {},
   "outputs": [],
   "source": [
    "base['nfl_a'] = ((base['CMP'] / base['ATT']) -.3) * 5"
   ]
  },
  {
   "cell_type": "code",
   "execution_count": 88,
   "id": "68da0dba-1add-4aa8-8dc8-63aaddb8e682",
   "metadata": {},
   "outputs": [],
   "source": [
    "base['nfl_b'] = ((base['YDS'] / base['ATT']) - 3) * .25"
   ]
  },
  {
   "cell_type": "code",
   "execution_count": 89,
   "id": "1b2839c6-b7fd-48d3-a351-11447ad737ef",
   "metadata": {},
   "outputs": [],
   "source": [
    "base['nfl_c'] = (base['TD'] / base['ATT']) * 20"
   ]
  },
  {
   "cell_type": "code",
   "execution_count": 90,
   "id": "78223b4b-88c1-42c7-b321-3c4efd81775d",
   "metadata": {},
   "outputs": [],
   "source": [
    "base['nfl_d'] = 2.375 - (base['INT']/base['ATT']) * 25"
   ]
  },
  {
   "cell_type": "code",
   "execution_count": 91,
   "id": "57b0b893-24d2-4280-846d-ff9de465b73e",
   "metadata": {},
   "outputs": [],
   "source": [
    "base['nfl_pr'] = ((base['nfl_a'] + base['nfl_b'] + base['nfl_c'] + base['nfl_d'])/6) * 100"
   ]
  },
  {
   "cell_type": "code",
   "execution_count": 92,
   "id": "1f309a24-9e8b-4708-be27-f8d09a0a0a3f",
   "metadata": {},
   "outputs": [
    {
     "data": {
      "text/html": [
       "<div>\n",
       "<style scoped>\n",
       "    .dataframe tbody tr th:only-of-type {\n",
       "        vertical-align: middle;\n",
       "    }\n",
       "\n",
       "    .dataframe tbody tr th {\n",
       "        vertical-align: top;\n",
       "    }\n",
       "\n",
       "    .dataframe thead th {\n",
       "        text-align: right;\n",
       "    }\n",
       "</style>\n",
       "<table border=\"1\" class=\"dataframe\">\n",
       "  <thead>\n",
       "    <tr style=\"text-align: right;\">\n",
       "      <th></th>\n",
       "      <th>NAME</th>\n",
       "      <th>SEASON</th>\n",
       "      <th>TM</th>\n",
       "      <th>GP</th>\n",
       "      <th>CMP</th>\n",
       "      <th>ATT</th>\n",
       "      <th>PCT</th>\n",
       "      <th>YDS</th>\n",
       "      <th>AVG</th>\n",
       "      <th>YDS/G</th>\n",
       "      <th>...</th>\n",
       "      <th>INT</th>\n",
       "      <th>INT%</th>\n",
       "      <th>SCK</th>\n",
       "      <th>SCKY</th>\n",
       "      <th>RATE</th>\n",
       "      <th>nfl_a</th>\n",
       "      <th>nfl_b</th>\n",
       "      <th>nfl_c</th>\n",
       "      <th>nfl_d</th>\n",
       "      <th>nfl_pr</th>\n",
       "    </tr>\n",
       "  </thead>\n",
       "  <tbody>\n",
       "    <tr>\n",
       "      <th>0</th>\n",
       "      <td>Patrick Mahomes</td>\n",
       "      <td>2021</td>\n",
       "      <td>KC</td>\n",
       "      <td>17</td>\n",
       "      <td>436</td>\n",
       "      <td>658</td>\n",
       "      <td>66.3</td>\n",
       "      <td>4839</td>\n",
       "      <td>7.4</td>\n",
       "      <td>284.6</td>\n",
       "      <td>...</td>\n",
       "      <td>13</td>\n",
       "      <td>2</td>\n",
       "      <td>28</td>\n",
       "      <td>146</td>\n",
       "      <td>98.5</td>\n",
       "      <td>1.81307</td>\n",
       "      <td>1.088526</td>\n",
       "      <td>1.12462</td>\n",
       "      <td>1.881079</td>\n",
       "      <td>98.454914</td>\n",
       "    </tr>\n",
       "  </tbody>\n",
       "</table>\n",
       "<p>1 rows × 22 columns</p>\n",
       "</div>"
      ],
      "text/plain": [
       "              NAME  SEASON  TM  GP  CMP  ATT   PCT   YDS  AVG  YDS/G  ...  \\\n",
       "0  Patrick Mahomes    2021  KC  17  436  658  66.3  4839  7.4  284.6  ...   \n",
       "\n",
       "   INT  INT%  SCK  SCKY  RATE    nfl_a     nfl_b    nfl_c     nfl_d     nfl_pr  \n",
       "0   13     2   28   146  98.5  1.81307  1.088526  1.12462  1.881079  98.454914  \n",
       "\n",
       "[1 rows x 22 columns]"
      ]
     },
     "execution_count": 92,
     "metadata": {},
     "output_type": "execute_result"
    }
   ],
   "source": [
    "base"
   ]
  },
  {
   "cell_type": "code",
   "execution_count": 93,
   "id": "e3af0cff-d289-42d0-a130-2e128722e45f",
   "metadata": {},
   "outputs": [],
   "source": [
    "base['ncaa_pr'] = ((8.4 * base['YDS']) + (330 * base['TD']) + (100 * base['CMP']) - (200 * base['INT'])) / base['ATT']"
   ]
  },
  {
   "cell_type": "code",
   "execution_count": 94,
   "id": "5452cd4c-4105-4f27-839c-7d6835c591a3",
   "metadata": {},
   "outputs": [
    {
     "data": {
      "text/html": [
       "<div>\n",
       "<style scoped>\n",
       "    .dataframe tbody tr th:only-of-type {\n",
       "        vertical-align: middle;\n",
       "    }\n",
       "\n",
       "    .dataframe tbody tr th {\n",
       "        vertical-align: top;\n",
       "    }\n",
       "\n",
       "    .dataframe thead th {\n",
       "        text-align: right;\n",
       "    }\n",
       "</style>\n",
       "<table border=\"1\" class=\"dataframe\">\n",
       "  <thead>\n",
       "    <tr style=\"text-align: right;\">\n",
       "      <th></th>\n",
       "      <th>NAME</th>\n",
       "      <th>SEASON</th>\n",
       "      <th>TM</th>\n",
       "      <th>GP</th>\n",
       "      <th>CMP</th>\n",
       "      <th>ATT</th>\n",
       "      <th>PCT</th>\n",
       "      <th>YDS</th>\n",
       "      <th>AVG</th>\n",
       "      <th>YDS/G</th>\n",
       "      <th>...</th>\n",
       "      <th>INT%</th>\n",
       "      <th>SCK</th>\n",
       "      <th>SCKY</th>\n",
       "      <th>RATE</th>\n",
       "      <th>nfl_a</th>\n",
       "      <th>nfl_b</th>\n",
       "      <th>nfl_c</th>\n",
       "      <th>nfl_d</th>\n",
       "      <th>nfl_pr</th>\n",
       "      <th>ncaa_pr</th>\n",
       "    </tr>\n",
       "  </thead>\n",
       "  <tbody>\n",
       "    <tr>\n",
       "      <th>0</th>\n",
       "      <td>Patrick Mahomes</td>\n",
       "      <td>2021</td>\n",
       "      <td>KC</td>\n",
       "      <td>17</td>\n",
       "      <td>436</td>\n",
       "      <td>658</td>\n",
       "      <td>66.3</td>\n",
       "      <td>4839</td>\n",
       "      <td>7.4</td>\n",
       "      <td>284.6</td>\n",
       "      <td>...</td>\n",
       "      <td>2</td>\n",
       "      <td>28</td>\n",
       "      <td>146</td>\n",
       "      <td>98.5</td>\n",
       "      <td>1.81307</td>\n",
       "      <td>1.088526</td>\n",
       "      <td>1.12462</td>\n",
       "      <td>1.881079</td>\n",
       "      <td>98.454914</td>\n",
       "      <td>142.640729</td>\n",
       "    </tr>\n",
       "  </tbody>\n",
       "</table>\n",
       "<p>1 rows × 23 columns</p>\n",
       "</div>"
      ],
      "text/plain": [
       "              NAME  SEASON  TM  GP  CMP  ATT   PCT   YDS  AVG  YDS/G  ...  \\\n",
       "0  Patrick Mahomes    2021  KC  17  436  658  66.3  4839  7.4  284.6  ...   \n",
       "\n",
       "   INT%  SCK  SCKY  RATE    nfl_a     nfl_b    nfl_c     nfl_d     nfl_pr  \\\n",
       "0     2   28   146  98.5  1.81307  1.088526  1.12462  1.881079  98.454914   \n",
       "\n",
       "      ncaa_pr  \n",
       "0  142.640729  \n",
       "\n",
       "[1 rows x 23 columns]"
      ]
     },
     "execution_count": 94,
     "metadata": {},
     "output_type": "execute_result"
    }
   ],
   "source": [
    "base"
   ]
  },
  {
   "cell_type": "code",
   "execution_count": 95,
   "id": "c9a3c85f-a64d-46d7-8f4f-46bff811d63a",
   "metadata": {},
   "outputs": [],
   "source": [
    "base['wow_pr'] = base['YDS'] - (3*(base['ATT'] + base['SCK'])) - (30 * base['INT'])"
   ]
  },
  {
   "cell_type": "code",
   "execution_count": 96,
   "id": "ec95d29a-25a7-4707-9468-8b390125dc01",
   "metadata": {},
   "outputs": [
    {
     "data": {
      "text/html": [
       "<div>\n",
       "<style scoped>\n",
       "    .dataframe tbody tr th:only-of-type {\n",
       "        vertical-align: middle;\n",
       "    }\n",
       "\n",
       "    .dataframe tbody tr th {\n",
       "        vertical-align: top;\n",
       "    }\n",
       "\n",
       "    .dataframe thead th {\n",
       "        text-align: right;\n",
       "    }\n",
       "</style>\n",
       "<table border=\"1\" class=\"dataframe\">\n",
       "  <thead>\n",
       "    <tr style=\"text-align: right;\">\n",
       "      <th></th>\n",
       "      <th>NAME</th>\n",
       "      <th>SEASON</th>\n",
       "      <th>TM</th>\n",
       "      <th>GP</th>\n",
       "      <th>CMP</th>\n",
       "      <th>ATT</th>\n",
       "      <th>PCT</th>\n",
       "      <th>YDS</th>\n",
       "      <th>AVG</th>\n",
       "      <th>YDS/G</th>\n",
       "      <th>...</th>\n",
       "      <th>SCK</th>\n",
       "      <th>SCKY</th>\n",
       "      <th>RATE</th>\n",
       "      <th>nfl_a</th>\n",
       "      <th>nfl_b</th>\n",
       "      <th>nfl_c</th>\n",
       "      <th>nfl_d</th>\n",
       "      <th>nfl_pr</th>\n",
       "      <th>ncaa_pr</th>\n",
       "      <th>wow_pr</th>\n",
       "    </tr>\n",
       "  </thead>\n",
       "  <tbody>\n",
       "    <tr>\n",
       "      <th>0</th>\n",
       "      <td>Patrick Mahomes</td>\n",
       "      <td>2021</td>\n",
       "      <td>KC</td>\n",
       "      <td>17</td>\n",
       "      <td>436</td>\n",
       "      <td>658</td>\n",
       "      <td>66.3</td>\n",
       "      <td>4839</td>\n",
       "      <td>7.4</td>\n",
       "      <td>284.6</td>\n",
       "      <td>...</td>\n",
       "      <td>28</td>\n",
       "      <td>146</td>\n",
       "      <td>98.5</td>\n",
       "      <td>1.81307</td>\n",
       "      <td>1.088526</td>\n",
       "      <td>1.12462</td>\n",
       "      <td>1.881079</td>\n",
       "      <td>98.454914</td>\n",
       "      <td>142.640729</td>\n",
       "      <td>2391</td>\n",
       "    </tr>\n",
       "  </tbody>\n",
       "</table>\n",
       "<p>1 rows × 24 columns</p>\n",
       "</div>"
      ],
      "text/plain": [
       "              NAME  SEASON  TM  GP  CMP  ATT   PCT   YDS  AVG  YDS/G  ...  \\\n",
       "0  Patrick Mahomes    2021  KC  17  436  658  66.3  4839  7.4  284.6  ...   \n",
       "\n",
       "   SCK  SCKY  RATE    nfl_a     nfl_b    nfl_c     nfl_d     nfl_pr  \\\n",
       "0   28   146  98.5  1.81307  1.088526  1.12462  1.881079  98.454914   \n",
       "\n",
       "      ncaa_pr  wow_pr  \n",
       "0  142.640729    2391  \n",
       "\n",
       "[1 rows x 24 columns]"
      ]
     },
     "execution_count": 96,
     "metadata": {},
     "output_type": "execute_result"
    }
   ],
   "source": [
    "base"
   ]
  },
  {
   "cell_type": "code",
   "execution_count": 97,
   "id": "d6621840-baf8-4d0e-81b5-e7f562fe8c24",
   "metadata": {},
   "outputs": [],
   "source": [
    "base['burke_pr'] = 1.543 * (base['YDS'] - base['SCKY'])/(base['ATT'] + base['SCK']) - 50.097* (base['INT']/base['ATT'])"
   ]
  },
  {
   "cell_type": "code",
   "execution_count": 98,
   "id": "f726293e-7058-4af8-9630-889bab1c008b",
   "metadata": {},
   "outputs": [
    {
     "data": {
      "text/html": [
       "<div>\n",
       "<style scoped>\n",
       "    .dataframe tbody tr th:only-of-type {\n",
       "        vertical-align: middle;\n",
       "    }\n",
       "\n",
       "    .dataframe tbody tr th {\n",
       "        vertical-align: top;\n",
       "    }\n",
       "\n",
       "    .dataframe thead th {\n",
       "        text-align: right;\n",
       "    }\n",
       "</style>\n",
       "<table border=\"1\" class=\"dataframe\">\n",
       "  <thead>\n",
       "    <tr style=\"text-align: right;\">\n",
       "      <th></th>\n",
       "      <th>NAME</th>\n",
       "      <th>SEASON</th>\n",
       "      <th>TM</th>\n",
       "      <th>GP</th>\n",
       "      <th>CMP</th>\n",
       "      <th>ATT</th>\n",
       "      <th>PCT</th>\n",
       "      <th>YDS</th>\n",
       "      <th>AVG</th>\n",
       "      <th>YDS/G</th>\n",
       "      <th>...</th>\n",
       "      <th>SCKY</th>\n",
       "      <th>RATE</th>\n",
       "      <th>nfl_a</th>\n",
       "      <th>nfl_b</th>\n",
       "      <th>nfl_c</th>\n",
       "      <th>nfl_d</th>\n",
       "      <th>nfl_pr</th>\n",
       "      <th>ncaa_pr</th>\n",
       "      <th>wow_pr</th>\n",
       "      <th>burke_pr</th>\n",
       "    </tr>\n",
       "  </thead>\n",
       "  <tbody>\n",
       "    <tr>\n",
       "      <th>0</th>\n",
       "      <td>Patrick Mahomes</td>\n",
       "      <td>2021</td>\n",
       "      <td>KC</td>\n",
       "      <td>17</td>\n",
       "      <td>436</td>\n",
       "      <td>658</td>\n",
       "      <td>66.3</td>\n",
       "      <td>4839</td>\n",
       "      <td>7.4</td>\n",
       "      <td>284.6</td>\n",
       "      <td>...</td>\n",
       "      <td>146</td>\n",
       "      <td>98.5</td>\n",
       "      <td>1.81307</td>\n",
       "      <td>1.088526</td>\n",
       "      <td>1.12462</td>\n",
       "      <td>1.881079</td>\n",
       "      <td>98.454914</td>\n",
       "      <td>142.640729</td>\n",
       "      <td>2391</td>\n",
       "      <td>9.566071</td>\n",
       "    </tr>\n",
       "  </tbody>\n",
       "</table>\n",
       "<p>1 rows × 25 columns</p>\n",
       "</div>"
      ],
      "text/plain": [
       "              NAME  SEASON  TM  GP  CMP  ATT   PCT   YDS  AVG  YDS/G  ...  \\\n",
       "0  Patrick Mahomes    2021  KC  17  436  658  66.3  4839  7.4  284.6  ...   \n",
       "\n",
       "   SCKY  RATE    nfl_a     nfl_b    nfl_c     nfl_d     nfl_pr     ncaa_pr  \\\n",
       "0   146  98.5  1.81307  1.088526  1.12462  1.881079  98.454914  142.640729   \n",
       "\n",
       "   wow_pr  burke_pr  \n",
       "0    2391  9.566071  \n",
       "\n",
       "[1 rows x 25 columns]"
      ]
     },
     "execution_count": 98,
     "metadata": {},
     "output_type": "execute_result"
    }
   ],
   "source": [
    "base"
   ]
  }
 ],
 "metadata": {
  "kernelspec": {
   "display_name": "Python 3 (ipykernel)",
   "language": "python",
   "name": "python3"
  },
  "language_info": {
   "codemirror_mode": {
    "name": "ipython",
    "version": 3
   },
   "file_extension": ".py",
   "mimetype": "text/x-python",
   "name": "python",
   "nbconvert_exporter": "python",
   "pygments_lexer": "ipython3",
   "version": "3.9.7"
  }
 },
 "nbformat": 4,
 "nbformat_minor": 5
}
