{
 "cells": [
  {
   "cell_type": "markdown",
   "id": "4b5d344c-5864-4fb8-9587-869a0ebed16d",
   "metadata": {},
   "source": [
    "## ***SI 311 Homework #12: The End of an NBA Game***\n",
    "\n",
    "Data from: https://www.kaggle.com/datasets/schmadam97/nba-playbyplay-data-20182019?resource=download&select=NBA_PBP_2017-18.csv\n",
    "\n",
    "Formulas from SI 311, University of Michigan Fall '22\n",
    "\n",
    "*Code Written by Brandon Huggard*\n",
    "\n",
    "https://www.linkedin.com/in/brandon-huggard-5957a0192/"
   ]
  },
  {
   "cell_type": "code",
   "execution_count": 601,
   "id": "ecd686d3-9d1e-450b-ad26-aabd5b3485c8",
   "metadata": {},
   "outputs": [],
   "source": [
    "import pandas as pd\n",
    "import numpy as np\n",
    "import matplotlib.pyplot as plt\n",
    "import seaborn as sns"
   ]
  },
  {
   "cell_type": "code",
   "execution_count": 602,
   "id": "da40c19e-24a9-432c-881b-e1f7b4ce481a",
   "metadata": {},
   "outputs": [],
   "source": [
    "df = pd.read_csv('hw12.csv')"
   ]
  },
  {
   "cell_type": "code",
   "execution_count": 603,
   "id": "d5737720-6b2a-46b6-8656-96a2b300204f",
   "metadata": {},
   "outputs": [
    {
     "data": {
      "text/plain": [
       "Index(['URL', 'GameType', 'Location', 'Date', 'Time', 'WinningTeam', 'Quarter',\n",
       "       'SecLeft', 'AwayTeam', 'AwayPlay', 'AwayScore', 'HomeTeam', 'HomePlay',\n",
       "       'HomeScore', 'Shooter', 'ShotType', 'ShotOutcome', 'ShotDist',\n",
       "       'Assister', 'Blocker', 'FoulType', 'Fouler', 'Fouled', 'Rebounder',\n",
       "       'ReboundType', 'ViolationPlayer', 'ViolationType', 'TimeoutTeam',\n",
       "       'FreeThrowShooter', 'FreeThrowOutcome', 'FreeThrowNum', 'EnterGame',\n",
       "       'LeaveGame', 'TurnoverPlayer', 'TurnoverType', 'TurnoverCause',\n",
       "       'TurnoverCauser', 'JumpballAwayPlayer', 'JumpballHomePlayer',\n",
       "       'JumpballPoss'],\n",
       "      dtype='object')"
      ]
     },
     "execution_count": 603,
     "metadata": {},
     "output_type": "execute_result"
    }
   ],
   "source": [
    "df.columns"
   ]
  },
  {
   "cell_type": "code",
   "execution_count": 604,
   "id": "e5ee117c-98de-4385-8823-2d976bc6f70e",
   "metadata": {},
   "outputs": [],
   "source": [
    "df = df[df['Quarter'] == 4]"
   ]
  },
  {
   "cell_type": "code",
   "execution_count": 605,
   "id": "8d120d7b-8204-430c-ab8b-91fa3c95e4c3",
   "metadata": {},
   "outputs": [],
   "source": [
    "lg = df[df['SecLeft'] <= 12]"
   ]
  },
  {
   "cell_type": "code",
   "execution_count": 606,
   "id": "48cdcead-0050-42eb-af0c-79858b415df1",
   "metadata": {},
   "outputs": [],
   "source": [
    "lg = lg.drop(columns = ['EnterGame', 'LeaveGame', 'TurnoverPlayer', 'TurnoverCauser', 'FreeThrowShooter', 'Shooter', 'Assister', 'Blocker',\n",
    "                       'Fouler', 'Fouled', 'Rebounder', 'ViolationPlayer','JumpballAwayPlayer','JumpballHomePlayer', 'GameType',\n",
    "                       'Location', 'Date', 'Time'])"
   ]
  },
  {
   "cell_type": "code",
   "execution_count": 607,
   "id": "05f458bd-bee2-44c6-b032-d884163a7ad5",
   "metadata": {},
   "outputs": [],
   "source": [
    "pd.set_option('display.max_columns', 50000000000000000000000000000000000)"
   ]
  },
  {
   "cell_type": "code",
   "execution_count": 608,
   "id": "78dbfa0b-43aa-4aae-8985-b78ddea8dfc2",
   "metadata": {},
   "outputs": [
    {
     "data": {
      "text/plain": [
       "personal take       259\n",
       "personal            228\n",
       "shooting             86\n",
       "loose ball           17\n",
       "technical             9\n",
       "offensive charge      4\n",
       "offensive             4\n",
       "shooting block        1\n",
       "personal block        1\n",
       "Name: FoulType, dtype: int64"
      ]
     },
     "execution_count": 608,
     "metadata": {},
     "output_type": "execute_result"
    }
   ],
   "source": [
    "lg['FoulType'].value_counts()"
   ]
  },
  {
   "cell_type": "code",
   "execution_count": 609,
   "id": "26692c8f-79f3-40e0-80aa-1fcf372d24e5",
   "metadata": {},
   "outputs": [],
   "source": [
    "#lg = lg[lg['FoulType'].notna()]"
   ]
  },
  {
   "cell_type": "code",
   "execution_count": 610,
   "id": "0efaca17-a8ce-453b-a949-ebe0e83f1174",
   "metadata": {},
   "outputs": [],
   "source": [
    "lg_use = lg[['URL','HomeTeam', 'AwayTeam', 'WinningTeam', 'HomeScore','AwayScore', 'HomePlay', 'AwayPlay', 'FoulType', 'Quarter', 'SecLeft']].copy()"
   ]
  },
  {
   "cell_type": "code",
   "execution_count": 611,
   "id": "c0ca8026-2433-476d-b430-03ae1fa5fc12",
   "metadata": {},
   "outputs": [
    {
     "data": {
      "text/plain": [
       "990"
      ]
     },
     "execution_count": 611,
     "metadata": {},
     "output_type": "execute_result"
    }
   ],
   "source": [
    "lg_use['URL'].nunique()"
   ]
  },
  {
   "cell_type": "code",
   "execution_count": 612,
   "id": "865fbe33-a7cd-45f6-a0be-94ef4d4c6b32",
   "metadata": {},
   "outputs": [
    {
     "data": {
      "text/html": [
       "<div>\n",
       "<style scoped>\n",
       "    .dataframe tbody tr th:only-of-type {\n",
       "        vertical-align: middle;\n",
       "    }\n",
       "\n",
       "    .dataframe tbody tr th {\n",
       "        vertical-align: top;\n",
       "    }\n",
       "\n",
       "    .dataframe thead th {\n",
       "        text-align: right;\n",
       "    }\n",
       "</style>\n",
       "<table border=\"1\" class=\"dataframe\">\n",
       "  <thead>\n",
       "    <tr style=\"text-align: right;\">\n",
       "      <th></th>\n",
       "      <th>URL</th>\n",
       "      <th>HomeTeam</th>\n",
       "      <th>AwayTeam</th>\n",
       "      <th>WinningTeam</th>\n",
       "      <th>HomeScore</th>\n",
       "      <th>AwayScore</th>\n",
       "      <th>HomePlay</th>\n",
       "      <th>AwayPlay</th>\n",
       "      <th>FoulType</th>\n",
       "      <th>Quarter</th>\n",
       "      <th>SecLeft</th>\n",
       "    </tr>\n",
       "  </thead>\n",
       "  <tbody>\n",
       "    <tr>\n",
       "      <th>463</th>\n",
       "      <td>/boxscores/201710170CLE.html</td>\n",
       "      <td>CLE</td>\n",
       "      <td>BOS</td>\n",
       "      <td>CLE</td>\n",
       "      <td>102</td>\n",
       "      <td>99</td>\n",
       "      <td>L. James misses 3-pt jump shot from 26 ft</td>\n",
       "      <td>NaN</td>\n",
       "      <td>NaN</td>\n",
       "      <td>4</td>\n",
       "      <td>9</td>\n",
       "    </tr>\n",
       "  </tbody>\n",
       "</table>\n",
       "</div>"
      ],
      "text/plain": [
       "                              URL HomeTeam AwayTeam WinningTeam  HomeScore  \\\n",
       "463  /boxscores/201710170CLE.html      CLE      BOS         CLE        102   \n",
       "\n",
       "     AwayScore                                   HomePlay AwayPlay FoulType  \\\n",
       "463         99  L. James misses 3-pt jump shot from 26 ft      NaN      NaN   \n",
       "\n",
       "     Quarter  SecLeft  \n",
       "463        4        9  "
      ]
     },
     "execution_count": 612,
     "metadata": {},
     "output_type": "execute_result"
    }
   ],
   "source": [
    "pd.set_option('display.max_rows', 50000000000000000000000000000000000)\n",
    "lg_use.head(1)"
   ]
  },
  {
   "cell_type": "code",
   "execution_count": 613,
   "id": "0957202c-d21a-446c-8ded-e6be80951e2f",
   "metadata": {},
   "outputs": [],
   "source": [
    "dic = {}"
   ]
  },
  {
   "cell_type": "code",
   "execution_count": 614,
   "id": "ef8d00f3-5395-42e3-8da3-be47551862ff",
   "metadata": {},
   "outputs": [],
   "source": [
    "for ind in lg_use.index:\n",
    "    \n",
    "    if lg_use['URL'][ind] not in dic.keys():\n",
    "        dic[lg_use['URL'][ind]] = {'winning_fouls': False, 'won': False, 'flag': False}\n",
    "    \n",
    "    \n",
    "    if abs(lg_use['HomeScore'][ind] - lg_use['AwayScore'][ind]) == 3:\n",
    "        \n",
    "        dic[lg_use['URL'][ind]]['flag'] = True\n",
    "    \n",
    "        if lg_use['HomeScore'][ind] > lg_use['AwayScore'][ind]:\n",
    "            \n",
    "            if lg_use['WinningTeam'][ind] == lg_use['HomeTeam'][ind]:\n",
    "                dic[lg_use['URL'][ind]]['won'] = True\n",
    "            \n",
    "            if type(lg_use['AwayPlay'][ind]) == str and type(lg_use['FoulType'][ind]) == str:\n",
    "                dic[lg_use['URL'][ind]]['winning_fouls'] = True\n",
    "\n",
    "        if lg_use['HomeScore'][ind] < lg_use['AwayScore'][ind]:\n",
    "            \n",
    "            if lg_use['WinningTeam'][ind] == lg_use['AwayScore'][ind]:\n",
    "                dic[lg_use['URL'][ind]]['won'] = True\n",
    "            \n",
    "            if type(lg_use['HomePlay'][ind]) == str and type(lg_use['FoulType'][ind]) == str:\n",
    "                dic[lg_use['URL'][ind]]['winning_fouls'] = True\n"
   ]
  },
  {
   "cell_type": "code",
   "execution_count": 615,
   "id": "5666d7f1-ef22-4724-8913-a999f883648a",
   "metadata": {},
   "outputs": [],
   "source": [
    "fouls_and_won = 0\n",
    "fouls_and_lost = 0\n",
    "no_foul_won = 0\n",
    "no_foul_lost = 0"
   ]
  },
  {
   "cell_type": "code",
   "execution_count": 616,
   "id": "efdaf4a6-5764-42b6-90a2-7fa19cb7cc2d",
   "metadata": {},
   "outputs": [],
   "source": [
    "for key in dic.keys():\n",
    "    if dic[key]['flag'] == True:\n",
    "        if dic[key]['won'] == True and dic[key]['winning_fouls'] == True:\n",
    "            fouls_and_won += 1\n",
    "        if dic[key]['won'] == False and dic[key]['winning_fouls'] == True:\n",
    "            fouls_and_lost += 1\n",
    "        if dic[key]['won'] == True and dic[key]['winning_fouls'] == False:\n",
    "            no_foul_won += 1\n",
    "        if dic[key]['won'] == False and dic[key]['winning_fouls'] == False:\n",
    "            no_foul_lost += 1\n",
    "        "
   ]
  },
  {
   "cell_type": "code",
   "execution_count": 617,
   "id": "7f5163ad-615e-4c1a-9e44-23dad206b62c",
   "metadata": {},
   "outputs": [],
   "source": [
    "fouled_win_percentage = (fouls_and_won) / (fouls_and_won + fouls_and_lost)"
   ]
  },
  {
   "cell_type": "code",
   "execution_count": 618,
   "id": "bdebbd6f-58f6-4240-9f87-5226214eb08f",
   "metadata": {},
   "outputs": [],
   "source": [
    "not_fouled_win_percentage = (no_foul_won) / (no_foul_won + no_foul_lost)"
   ]
  },
  {
   "cell_type": "code",
   "execution_count": 619,
   "id": "2a496d32-ccf4-4094-964e-23dc443cb49f",
   "metadata": {},
   "outputs": [
    {
     "data": {
      "text/plain": [
       "0.625"
      ]
     },
     "execution_count": 619,
     "metadata": {},
     "output_type": "execute_result"
    }
   ],
   "source": [
    "fouled_win_percentage"
   ]
  },
  {
   "cell_type": "code",
   "execution_count": 620,
   "id": "00a5a7b1-5bbc-43ce-b8cf-84f8f3fbe0c8",
   "metadata": {},
   "outputs": [
    {
     "data": {
      "text/plain": [
       "0.5968586387434555"
      ]
     },
     "execution_count": 620,
     "metadata": {},
     "output_type": "execute_result"
    }
   ],
   "source": [
    "not_fouled_win_percentage"
   ]
  }
 ],
 "metadata": {
  "kernelspec": {
   "display_name": "Python 3 (ipykernel)",
   "language": "python",
   "name": "python3"
  },
  "language_info": {
   "codemirror_mode": {
    "name": "ipython",
    "version": 3
   },
   "file_extension": ".py",
   "mimetype": "text/x-python",
   "name": "python",
   "nbconvert_exporter": "python",
   "pygments_lexer": "ipython3",
   "version": "3.9.7"
  }
 },
 "nbformat": 4,
 "nbformat_minor": 5
}
